{
 "cells": [
  {
   "cell_type": "code",
   "execution_count": 1,
   "metadata": {},
   "outputs": [],
   "source": [
    "import pandas as pd\n",
    "import numpy as np\n",
    "import datetime\n",
    "\n",
    "# Configurações\n",
    "np.random.seed(0)\n",
    "num_rows = 1000\n",
    "start_date = datetime.date(2024, 1, 1)\n",
    "end_date = datetime.date(2024, 9, 1)\n",
    "\n",
    "# Geração de datas\n",
    "date_range = pd.date_range(start=start_date, end=end_date, freq='D')\n",
    "date_samples = np.random.choice(date_range, size=num_rows)\n",
    "\n",
    "# Dispositivos\n",
    "devices = ['Ar-condicionado', 'Lâmpadas', 'Computador', 'Geladeira', 'TV', 'Secadora']\n",
    "device_samples = np.random.choice(devices, size=num_rows)\n",
    "\n",
    "# Consumo e custo\n",
    "consumo_samples = np.random.uniform(1, 20, size=num_rows).round(2)\n",
    "custo_samples = (consumo_samples * np.random.uniform(2, 5, size=num_rows)).round(2)\n",
    "\n",
    "# Criação do DataFrame\n",
    "df = pd.DataFrame({\n",
    "    'Data': date_samples,\n",
    "    'Dispositivo': device_samples,\n",
    "    'Consumo (kWh)': consumo_samples,\n",
    "    'Custo (R$)': custo_samples\n",
    "})\n",
    "\n",
    "# Salvamento do arquivo CSV\n",
    "df.to_csv('dados_consumo_energia.csv', index=False)\n"
   ]
  }
 ],
 "metadata": {
  "kernelspec": {
   "display_name": "Python 3",
   "language": "python",
   "name": "python3"
  },
  "language_info": {
   "codemirror_mode": {
    "name": "ipython",
    "version": 3
   },
   "file_extension": ".py",
   "mimetype": "text/x-python",
   "name": "python",
   "nbconvert_exporter": "python",
   "pygments_lexer": "ipython3",
   "version": "3.10.9"
  }
 },
 "nbformat": 4,
 "nbformat_minor": 2
}
